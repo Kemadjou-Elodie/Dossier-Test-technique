{
 "cells": [
  {
   "cell_type": "markdown",
   "metadata": {},
   "source": [
    "# Part I : Quel(le) data scientist êtes-vous ?\n",
    "\n",
    "#### Contexte de l’analyse\n",
    "\n",
    "Elu métier le plus sexy par la Harvard Business Review en octobre 2012, le data scientist représente un profil rare qui exige de nombreuses compétences.\n",
    "\n",
    "A partir d'un dataset Aquila, vous réaliserez :\n",
    "\n",
    "    un clustering non supervisé afin d'identifier 2 groupes de profils techniques distinctes\n",
    "    une prédiction des profils dont le métier n'est pas labellisé\n",
    "\n",
    "#### Données\n",
    "\n",
    "data.csv contient 6 variables : - 'Entreprise' correspond à une liste d'entreprises fictive - 'Metier' correspond au métier parmi data scientist, lead data scientist, data engineer et data architecte - 'Technologies' correspond aux compétences maîtrisées par le profil - 'Diplome' correspond à son niveau scolaire (Bac, Master, PhD,...) - 'Experience' correspond au nombre d'années d'expériences - 'Ville' correspond au lieu de travail\n",
    "\n",
    "Répondez aux questions\n",
    "\n",
    "Bonne chance!"
   ]
  },
  {
   "cell_type": "markdown",
   "metadata": {},
   "source": [
    "# Part I : Quel(le) data scientist êtes-vous ?"
   ]
  },
  {
   "cell_type": "code",
   "execution_count": 1,
   "metadata": {
    "collapsed": true
   },
   "outputs": [],
   "source": [
    "# Import des libraries classique (numpy, pandas, ...)\n",
    "import pandas as pd\n",
    "import numpy as np\n",
    "import re\n",
    "import sklearn as sk\n",
    "import seaborn as sb\n",
    "from matplotlib import pyplot as plt\n",
    "plt.style.use('ggplot')"
   ]
  },
  {
   "cell_type": "markdown",
   "metadata": {},
   "source": [
    "## 1-) Importer le tableau de données dans un dataframe"
   ]
  },
  {
   "cell_type": "code",
   "execution_count": 2,
   "metadata": {
    "collapsed": true
   },
   "outputs": [],
   "source": [
    "# Import du dataframe \"data.csv\"\n",
    "df = pd.read_csv('data.csv', sep = \",\")"
   ]
  },
  {
   "cell_type": "code",
   "execution_count": 3,
   "metadata": {},
   "outputs": [
    {
     "data": {
      "text/html": [
       "<div>\n",
       "<style scoped>\n",
       "    .dataframe tbody tr th:only-of-type {\n",
       "        vertical-align: middle;\n",
       "    }\n",
       "\n",
       "    .dataframe tbody tr th {\n",
       "        vertical-align: top;\n",
       "    }\n",
       "\n",
       "    .dataframe thead th {\n",
       "        text-align: right;\n",
       "    }\n",
       "</style>\n",
       "<table border=\"1\" class=\"dataframe\">\n",
       "  <thead>\n",
       "    <tr style=\"text-align: right;\">\n",
       "      <th></th>\n",
       "      <th>Entreprise</th>\n",
       "      <th>Metier</th>\n",
       "      <th>Technologies</th>\n",
       "      <th>Diplome</th>\n",
       "      <th>Experience</th>\n",
       "      <th>Ville</th>\n",
       "    </tr>\n",
       "  </thead>\n",
       "  <tbody>\n",
       "    <tr>\n",
       "      <th>0</th>\n",
       "      <td>Sanofi</td>\n",
       "      <td>Data scientist</td>\n",
       "      <td>Matlab/Python/Pyspark/Scikit-learn/Tensorflow</td>\n",
       "      <td>Master</td>\n",
       "      <td>1</td>\n",
       "      <td>Paris</td>\n",
       "    </tr>\n",
       "    <tr>\n",
       "      <th>1</th>\n",
       "      <td>Massachusetts General Hospital(MGH)</td>\n",
       "      <td>Data architecte</td>\n",
       "      <td>Python/Java/Scala/MongoDB</td>\n",
       "      <td>Master</td>\n",
       "      <td>3</td>\n",
       "      <td>Marseille</td>\n",
       "    </tr>\n",
       "    <tr>\n",
       "      <th>2</th>\n",
       "      <td>Delve</td>\n",
       "      <td>Lead data scientist</td>\n",
       "      <td>SPSS/SQL/Teradata/R/Python/Tensorflow/scikit-l...</td>\n",
       "      <td>Master</td>\n",
       "      <td>3</td>\n",
       "      <td>Nantes</td>\n",
       "    </tr>\n",
       "    <tr>\n",
       "      <th>3</th>\n",
       "      <td>Ann &amp; Robert H. Lurie Children’s Hospital of C...</td>\n",
       "      <td>Data scientist</td>\n",
       "      <td>C/C++/Java/Python</td>\n",
       "      <td>Master</td>\n",
       "      <td>1,5</td>\n",
       "      <td>Marseille</td>\n",
       "    </tr>\n",
       "    <tr>\n",
       "      <th>4</th>\n",
       "      <td>Arm</td>\n",
       "      <td>Data scientist</td>\n",
       "      <td>Matlab/Python/C++/numpy/Tensorflow/scikit-learn</td>\n",
       "      <td>Phd</td>\n",
       "      <td>NaN</td>\n",
       "      <td>Bordeaux</td>\n",
       "    </tr>\n",
       "    <tr>\n",
       "      <th>...</th>\n",
       "      <td>...</td>\n",
       "      <td>...</td>\n",
       "      <td>...</td>\n",
       "      <td>...</td>\n",
       "      <td>...</td>\n",
       "      <td>...</td>\n",
       "    </tr>\n",
       "    <tr>\n",
       "      <th>9577</th>\n",
       "      <td>Massachusetts General Hospital(MGH)</td>\n",
       "      <td>Data scientist</td>\n",
       "      <td>C++/R/Python/Matlab/Matplotlib</td>\n",
       "      <td>Master</td>\n",
       "      <td>1,5</td>\n",
       "      <td>Lyon</td>\n",
       "    </tr>\n",
       "    <tr>\n",
       "      <th>9578</th>\n",
       "      <td>Charles River Analytics</td>\n",
       "      <td>Data scientist</td>\n",
       "      <td>Excel/Python/Matlab/R/machine learning/anglais</td>\n",
       "      <td>Master</td>\n",
       "      <td>11</td>\n",
       "      <td>Toulouse</td>\n",
       "    </tr>\n",
       "    <tr>\n",
       "      <th>9579</th>\n",
       "      <td>Ball Aerospace</td>\n",
       "      <td>Data scientist</td>\n",
       "      <td>R/machine learning/Excel/VBA</td>\n",
       "      <td>Master</td>\n",
       "      <td>1</td>\n",
       "      <td>Paris</td>\n",
       "    </tr>\n",
       "    <tr>\n",
       "      <th>9580</th>\n",
       "      <td>Takeda Pharmaceutical</td>\n",
       "      <td>Data scientist</td>\n",
       "      <td>Python/Pyspark/machine learning/Microsoft Azure</td>\n",
       "      <td>Master</td>\n",
       "      <td>17</td>\n",
       "      <td>Rennes</td>\n",
       "    </tr>\n",
       "    <tr>\n",
       "      <th>9581</th>\n",
       "      <td>Vertex</td>\n",
       "      <td>Data scientist</td>\n",
       "      <td>VBA/Python/Excel/R</td>\n",
       "      <td>Phd</td>\n",
       "      <td>0</td>\n",
       "      <td>Paris</td>\n",
       "    </tr>\n",
       "  </tbody>\n",
       "</table>\n",
       "<p>9582 rows × 6 columns</p>\n",
       "</div>"
      ],
      "text/plain": [
       "                                             Entreprise               Metier  \\\n",
       "0                                                Sanofi       Data scientist   \n",
       "1                   Massachusetts General Hospital(MGH)      Data architecte   \n",
       "2                                                 Delve  Lead data scientist   \n",
       "3     Ann & Robert H. Lurie Children’s Hospital of C...       Data scientist   \n",
       "4                                                   Arm       Data scientist   \n",
       "...                                                 ...                  ...   \n",
       "9577                Massachusetts General Hospital(MGH)       Data scientist   \n",
       "9578                            Charles River Analytics       Data scientist   \n",
       "9579                                     Ball Aerospace       Data scientist   \n",
       "9580                              Takeda Pharmaceutical       Data scientist   \n",
       "9581                                             Vertex       Data scientist   \n",
       "\n",
       "                                           Technologies Diplome Experience  \\\n",
       "0         Matlab/Python/Pyspark/Scikit-learn/Tensorflow  Master          1   \n",
       "1                             Python/Java/Scala/MongoDB  Master          3   \n",
       "2     SPSS/SQL/Teradata/R/Python/Tensorflow/scikit-l...  Master          3   \n",
       "3                                     C/C++/Java/Python  Master        1,5   \n",
       "4       Matlab/Python/C++/numpy/Tensorflow/scikit-learn     Phd        NaN   \n",
       "...                                                 ...     ...        ...   \n",
       "9577                     C++/R/Python/Matlab/Matplotlib  Master        1,5   \n",
       "9578     Excel/Python/Matlab/R/machine learning/anglais  Master         11   \n",
       "9579                       R/machine learning/Excel/VBA  Master          1   \n",
       "9580    Python/Pyspark/machine learning/Microsoft Azure  Master         17   \n",
       "9581                                 VBA/Python/Excel/R     Phd          0   \n",
       "\n",
       "          Ville  \n",
       "0         Paris  \n",
       "1     Marseille  \n",
       "2        Nantes  \n",
       "3     Marseille  \n",
       "4      Bordeaux  \n",
       "...         ...  \n",
       "9577       Lyon  \n",
       "9578   Toulouse  \n",
       "9579      Paris  \n",
       "9580     Rennes  \n",
       "9581      Paris  \n",
       "\n",
       "[9582 rows x 6 columns]"
      ]
     },
     "execution_count": 3,
     "metadata": {},
     "output_type": "execute_result"
    }
   ],
   "source": [
    "# Visualisation du dataset \n",
    "\n",
    "df"
   ]
  },
  {
   "cell_type": "markdown",
   "metadata": {},
   "source": [
    "## 2- Combien y a t-il d'observations dans ce dataset? Y a t-il des valeurs manquantes?"
   ]
  },
  {
   "cell_type": "code",
   "execution_count": 4,
   "metadata": {},
   "outputs": [
    {
     "name": "stdout",
     "output_type": "stream",
     "text": [
      "Dans ce dataset, il y a 9582 observations\n",
      "\n"
     ]
    }
   ],
   "source": [
    "# Visualisation du nombre d'observations dans ce dataset\n",
    "\n",
    "print(\"Dans ce dataset, il y a {0:d} observations\\n\".format(df.shape[0]))"
   ]
  },
  {
   "cell_type": "code",
   "execution_count": 5,
   "metadata": {},
   "outputs": [
    {
     "data": {
      "text/plain": [
       "(9582, 6)"
      ]
     },
     "execution_count": 5,
     "metadata": {},
     "output_type": "execute_result"
    }
   ],
   "source": [
    "# la taille des données\n",
    "\n",
    "df.shape"
   ]
  },
  {
   "cell_type": "code",
   "execution_count": 6,
   "metadata": {},
   "outputs": [
    {
     "data": {
      "text/plain": [
       "Entreprise      9565\n",
       "Metier          9563\n",
       "Technologies    9582\n",
       "Diplome         9582\n",
       "Experience      9488\n",
       "Ville           9582\n",
       "dtype: int64"
      ]
     },
     "execution_count": 6,
     "metadata": {},
     "output_type": "execute_result"
    }
   ],
   "source": [
    "# Les différents tailles des colonnes du dataset\n",
    "\n",
    "df.count()"
   ]
  },
  {
   "cell_type": "code",
   "execution_count": 7,
   "metadata": {},
   "outputs": [
    {
     "data": {
      "text/plain": [
       "Index(['Entreprise', 'Metier', 'Technologies', 'Diplome', 'Experience',\n",
       "       'Ville'],\n",
       "      dtype='object')"
      ]
     },
     "execution_count": 7,
     "metadata": {},
     "output_type": "execute_result"
    }
   ],
   "source": [
    "# les différentes colonnes du dataset\n",
    "\n",
    "df.columns"
   ]
  },
  {
   "cell_type": "code",
   "execution_count": 8,
   "metadata": {},
   "outputs": [
    {
     "name": "stdout",
     "output_type": "stream",
     "text": [
      "<class 'pandas.core.frame.DataFrame'>\n",
      "RangeIndex: 9582 entries, 0 to 9581\n",
      "Data columns (total 6 columns):\n",
      " #   Column        Non-Null Count  Dtype \n",
      "---  ------        --------------  ----- \n",
      " 0   Entreprise    9565 non-null   object\n",
      " 1   Metier        9563 non-null   object\n",
      " 2   Technologies  9582 non-null   object\n",
      " 3   Diplome       9582 non-null   object\n",
      " 4   Experience    9488 non-null   object\n",
      " 5   Ville         9582 non-null   object\n",
      "dtypes: object(6)\n",
      "memory usage: 224.6+ KB\n"
     ]
    }
   ],
   "source": [
    "# Les types de colonnes du dataset\n",
    "\n",
    "df.info()"
   ]
  },
  {
   "cell_type": "code",
   "execution_count": 9,
   "metadata": {},
   "outputs": [
    {
     "name": "stdout",
     "output_type": "stream",
     "text": [
      "Entreprise      17\n",
      "Metier          19\n",
      "Technologies     0\n",
      "Diplome          0\n",
      "Experience      94\n",
      "Ville            0\n",
      "dtype: int64\n"
     ]
    }
   ],
   "source": [
    "# Vérification des données manquantes pour chaque colonne\n",
    "\n",
    "print(df.isnull().sum(axis = 0))"
   ]
  },
  {
   "cell_type": "markdown",
   "metadata": {},
   "source": [
    "Le nombre de valeurs manquantes pour chaque caractéristique, Pour *\"Entreprise\": on a 17 valeurs manquantes*, *\"Metier\":  on a 19 valeurs manquantes*, *\"Experience\" : on a 94 valeurs manquantes* , et *\"Technologies\", \"Diplome\", \"Ville\"* , il n'y a pas de valeurs manquantes"
   ]
  },
  {
   "cell_type": "code",
   "execution_count": 10,
   "metadata": {
    "collapsed": true
   },
   "outputs": [],
   "source": [
    "## Traitement des données sur le nombre d'années d'expérience, \n",
    "## Le but est de remplacer les \",\" par les \".\" par exemple \"1,5\" par \"1.5\"\n",
    "## ET ensuite, changer le type \"object\" en \"float\n",
    "\n",
    "df['Experience'] = df['Experience'].astype(str)\n",
    "\n",
    "df['Experience'] = [x.replace(\",\", \".\") for x in df['Experience']]\n",
    "\n",
    "df['Experience'] = df['Experience'].astype(float)"
   ]
  },
  {
   "cell_type": "code",
   "execution_count": 11,
   "metadata": {},
   "outputs": [
    {
     "name": "stdout",
     "output_type": "stream",
     "text": [
      "<class 'pandas.core.frame.DataFrame'>\n",
      "RangeIndex: 9582 entries, 0 to 9581\n",
      "Data columns (total 6 columns):\n",
      " #   Column        Non-Null Count  Dtype  \n",
      "---  ------        --------------  -----  \n",
      " 0   Entreprise    9565 non-null   object \n",
      " 1   Metier        9563 non-null   object \n",
      " 2   Technologies  9582 non-null   object \n",
      " 3   Diplome       9582 non-null   object \n",
      " 4   Experience    9488 non-null   float64\n",
      " 5   Ville         9582 non-null   object \n",
      "dtypes: float64(1), object(5)\n",
      "memory usage: 262.1+ KB\n"
     ]
    }
   ],
   "source": [
    "df.info()"
   ]
  },
  {
   "cell_type": "markdown",
   "metadata": {},
   "source": [
    "## 3- Réaliser l'imputation des valeurs manquantes pour la variable \"Experience\" avec :\n",
    "\n",
    "  - la valeur médiane pour les data scientists\n",
    "  - la valeur moyenne pour les data engineers\n"
   ]
  },
  {
   "cell_type": "code",
   "execution_count": 12,
   "metadata": {
    "collapsed": true
   },
   "outputs": [],
   "source": [
    "# On spécifie le dataset des metiers liés aux data scientists et aux data engineer\n",
    "\n",
    "# Dataset pour les data scientists\n",
    "data_DS = df['Metier'] == 'Data scientist'\n",
    "\n",
    "# Dataset pour les data engineer\n",
    "data_DE = df['Metier'] == 'Data engineer'"
   ]
  },
  {
   "cell_type": "code",
   "execution_count": 13,
   "metadata": {},
   "outputs": [
    {
     "name": "stdout",
     "output_type": "stream",
     "text": [
      "Avant l'imputation :\n",
      "\n",
      "La somme des valeurs manquantes de la variable Expérience pour le profil Data Scientist:32\n",
      "La somme des valeurs manquantes de la variable Expérience pour le profil Data Engineer:20\n"
     ]
    }
   ],
   "source": [
    "# Avant l'imputation, on vérifie d'abord la somme des valeurs manquantes pour les différents profils : Data Scientist et Data Engineer\n",
    "\n",
    "print(\"Avant l\\'imputation :\\n\")\n",
    "print(\"La somme des valeurs manquantes de la variable Expérience pour le profil Data Scientist:\"+str((df.loc[data_DS,'Experience']).isna().sum()))\n",
    "print(\"La somme des valeurs manquantes de la variable Expérience pour le profil Data Engineer:\"+str((df.loc[data_DE,'Experience']).isna().sum()))"
   ]
  },
  {
   "cell_type": "code",
   "execution_count": 14,
   "metadata": {
    "collapsed": true
   },
   "outputs": [],
   "source": [
    "# On remplit les valeurs manquantes de Data Engineers par la valeur moyenne\n",
    "\n",
    "data_DE = df['Metier'] == 'Data engineer'\n",
    "Mean_DE = df[data_DE]['Experience'].dropna().mean()\n",
    "df.loc[data_DE, 'Experience'] = df.loc[data_DE, 'Experience'].fillna(Mean_DE)"
   ]
  },
  {
   "cell_type": "code",
   "execution_count": 15,
   "metadata": {
    "collapsed": true
   },
   "outputs": [],
   "source": [
    "# On remplit les valeurs manquantes de Data Scientists par la valeur médiane\n",
    "\n",
    "data_DS = df['Metier'] == 'Data scientist'\n",
    "Median_DS = df[data_DS]['Experience'].dropna().median()\n",
    "df.loc[data_DS, 'Experience'] = df.loc[data_DS, 'Experience'].fillna(Median_DS)"
   ]
  },
  {
   "cell_type": "code",
   "execution_count": 16,
   "metadata": {},
   "outputs": [
    {
     "name": "stdout",
     "output_type": "stream",
     "text": [
      "\n",
      "Aprés l'imputation :\n",
      "\n",
      "La somme des valeurs manquantes de la variable Expérience pour le profil Data Scientist:0\n",
      "La somme des valeurs manquantes de la variable Expérience pour le profil Data Engineer:0\n"
     ]
    }
   ],
   "source": [
    "# On vérifie les valeurs manquantes après l'imputation des valeurs manquantes pour les deux profils\n",
    "\n",
    "print(\"\\nAprés l\\'imputation :\\n\")\n",
    "print(\"La somme des valeurs manquantes de la variable Expérience pour le profil Data Scientist:\"+str((df.loc[data_DS,'Experience']).isna().sum()))\n",
    "print(\"La somme des valeurs manquantes de la variable Expérience pour le profil Data Engineer:\"+str((df.loc[data_DE,'Experience']).isna().sum()))"
   ]
  },
  {
   "cell_type": "markdown",
   "metadata": {},
   "source": [
    "## 4-  Combien d'années d'expériences ont, en moyenne, chacun des profils : le data scientist, le lead data scientist et le data engineer en moyenne?"
   ]
  },
  {
   "cell_type": "code",
   "execution_count": 17,
   "metadata": {},
   "outputs": [
    {
     "name": "stdout",
     "output_type": "stream",
     "text": [
      "Les années d'experiences en moyenne pour chaque profil:\n",
      "\n",
      "Data scientist      : 2.241268 \n",
      "Lead data scientist : 3.965261 \n",
      "Data enginner       : 2.984959 \n"
     ]
    }
   ],
   "source": [
    "# remplire les valeurs manquantes de Data Scientist par la valeur moyenne\n",
    "\n",
    "Mean_DS = df[data_DS]['Experience'].dropna().mean()\n",
    "df.loc[data_DS, 'Experience'] = df.loc[data_DS, 'Experience'].fillna(Mean_DS)\n",
    "\n",
    "# remplire les valeurs manquantes de Lead Data Scientist par la valeur moyenne\n",
    "\n",
    "data_LDS = df['Metier'] == 'Lead data scientist'\n",
    "Mean_LDS = df[data_LDS]['Experience'].dropna().mean()\n",
    "df.loc[data_LDS, 'Experience'] = df.loc[data_LDS, 'Experience'].fillna(Mean_LDS)\n",
    "\n",
    "# remplire les valeurs manquantes de Data Architecte par la valeur moyenne\n",
    "\n",
    "data_DA = df['Metier'] == 'Data architecte'\n",
    "Mean_DA = df[data_DA]['Experience'].dropna().mean()\n",
    "df.loc[data_DA, 'Experience'] = df.loc[data_DA, 'Experience'].fillna(Mean_DA)\n",
    "\n",
    "#Affichge\n",
    "print(\"Les années d'experiences en moyenne pour chaque profil:\\n\")\n",
    "print(\"Data scientist      : {0:f} \".format(Mean_DS))\n",
    "print(\"Lead data scientist : {0:f} \".format(Mean_LDS))\n",
    "print(\"Data enginner       : {0:f} \".format(Mean_DE))\n",
    "#print(\"Data architecte     : {0:f} \".format(Mean_DA))"
   ]
  },
  {
   "cell_type": "markdown",
   "metadata": {},
   "source": [
    "## 5- Faire la représentation graphique de votre choix afin de comparer le nombre moyen d'années d'expériences pour chaque métier"
   ]
  },
  {
   "cell_type": "code",
   "execution_count": 18,
   "metadata": {},
   "outputs": [
    {
     "data": {
      "image/png": "[encoded data removed]",
      "text/plain": [
       "<Figure size 432x288 with 1 Axes>"
      ]
     },
     "metadata": {},
     "output_type": "display_data"
    }
   ],
   "source": [
    "# Representation graphique du nombre moyen d'années d'expériences pour chaque métier\n",
    "\n",
    "plt.figure()\n",
    "plt.subplot(111)\n",
    "X=df['Metier'].value_counts().keys()\n",
    "Y=[Mean_DA, Mean_DE,Mean_LDS,Mean_DS]\n",
    "plt.bar(X,Y,color=(0.4, 0.4, 0.6, 0.6))\n",
    "sb.set_context(\"talk\")\n",
    "plt.xticks(X,rotation=45)\n",
    "plt.ylabel(\"La valeur moyenne\\n\")\n",
    "plt.title(\"Le nombre moyen d'années d'expériences pour chaque métier\\n\")\n",
    "plt.show()"
   ]
  },
  {
   "cell_type": "markdown",
   "metadata": {},
   "source": [
    "## 6- Transformer la variable continue 'Experience' en une nouvelle variable catégorielle 'Exp_label' à 4 modalités: débutant, confirmé, avancé et expert"
   ]
  },
  {
   "cell_type": "markdown",
   "metadata": {},
   "source": [
    "###### Veuillez expliquer votre choix du règle de transformation. "
   ]
  },
  {
   "cell_type": "code",
   "execution_count": 19,
   "metadata": {},
   "outputs": [
    {
     "data": {
      "text/html": [
       "<div>\n",
       "<style scoped>\n",
       "    .dataframe tbody tr th:only-of-type {\n",
       "        vertical-align: middle;\n",
       "    }\n",
       "\n",
       "    .dataframe tbody tr th {\n",
       "        vertical-align: top;\n",
       "    }\n",
       "\n",
       "    .dataframe thead th {\n",
       "        text-align: right;\n",
       "    }\n",
       "</style>\n",
       "<table border=\"1\" class=\"dataframe\">\n",
       "  <thead>\n",
       "    <tr style=\"text-align: right;\">\n",
       "      <th></th>\n",
       "      <th>Entreprise</th>\n",
       "      <th>Metier</th>\n",
       "      <th>Technologies</th>\n",
       "      <th>Diplome</th>\n",
       "      <th>Experience</th>\n",
       "      <th>Ville</th>\n",
       "      <th>Exp_label</th>\n",
       "    </tr>\n",
       "  </thead>\n",
       "  <tbody>\n",
       "    <tr>\n",
       "      <th>0</th>\n",
       "      <td>Sanofi</td>\n",
       "      <td>Data scientist</td>\n",
       "      <td>Matlab/Python/Pyspark/Scikit-learn/Tensorflow</td>\n",
       "      <td>Master</td>\n",
       "      <td>1.0</td>\n",
       "      <td>Paris</td>\n",
       "      <td>Debutant</td>\n",
       "    </tr>\n",
       "    <tr>\n",
       "      <th>1</th>\n",
       "      <td>Massachusetts General Hospital(MGH)</td>\n",
       "      <td>Data architecte</td>\n",
       "      <td>Python/Java/Scala/MongoDB</td>\n",
       "      <td>Master</td>\n",
       "      <td>3.0</td>\n",
       "      <td>Marseille</td>\n",
       "      <td>Debutant</td>\n",
       "    </tr>\n",
       "    <tr>\n",
       "      <th>2</th>\n",
       "      <td>Delve</td>\n",
       "      <td>Lead data scientist</td>\n",
       "      <td>SPSS/SQL/Teradata/R/Python/Tensorflow/scikit-l...</td>\n",
       "      <td>Master</td>\n",
       "      <td>3.0</td>\n",
       "      <td>Nantes</td>\n",
       "      <td>Debutant</td>\n",
       "    </tr>\n",
       "    <tr>\n",
       "      <th>3</th>\n",
       "      <td>Ann &amp; Robert H. Lurie Children’s Hospital of C...</td>\n",
       "      <td>Data scientist</td>\n",
       "      <td>C/C++/Java/Python</td>\n",
       "      <td>Master</td>\n",
       "      <td>1.5</td>\n",
       "      <td>Marseille</td>\n",
       "      <td>Debutant</td>\n",
       "    </tr>\n",
       "    <tr>\n",
       "      <th>4</th>\n",
       "      <td>Arm</td>\n",
       "      <td>Data scientist</td>\n",
       "      <td>Matlab/Python/C++/numpy/Tensorflow/scikit-learn</td>\n",
       "      <td>Phd</td>\n",
       "      <td>2.0</td>\n",
       "      <td>Bordeaux</td>\n",
       "      <td>Debutant</td>\n",
       "    </tr>\n",
       "    <tr>\n",
       "      <th>...</th>\n",
       "      <td>...</td>\n",
       "      <td>...</td>\n",
       "      <td>...</td>\n",
       "      <td>...</td>\n",
       "      <td>...</td>\n",
       "      <td>...</td>\n",
       "      <td>...</td>\n",
       "    </tr>\n",
       "    <tr>\n",
       "      <th>9577</th>\n",
       "      <td>Massachusetts General Hospital(MGH)</td>\n",
       "      <td>Data scientist</td>\n",
       "      <td>C++/R/Python/Matlab/Matplotlib</td>\n",
       "      <td>Master</td>\n",
       "      <td>1.5</td>\n",
       "      <td>Lyon</td>\n",
       "      <td>Debutant</td>\n",
       "    </tr>\n",
       "    <tr>\n",
       "      <th>9578</th>\n",
       "      <td>Charles River Analytics</td>\n",
       "      <td>Data scientist</td>\n",
       "      <td>Excel/Python/Matlab/R/machine learning/anglais</td>\n",
       "      <td>Master</td>\n",
       "      <td>11.0</td>\n",
       "      <td>Toulouse</td>\n",
       "      <td>Avance</td>\n",
       "    </tr>\n",
       "    <tr>\n",
       "      <th>9579</th>\n",
       "      <td>Ball Aerospace</td>\n",
       "      <td>Data scientist</td>\n",
       "      <td>R/machine learning/Excel/VBA</td>\n",
       "      <td>Master</td>\n",
       "      <td>1.0</td>\n",
       "      <td>Paris</td>\n",
       "      <td>Debutant</td>\n",
       "    </tr>\n",
       "    <tr>\n",
       "      <th>9580</th>\n",
       "      <td>Takeda Pharmaceutical</td>\n",
       "      <td>Data scientist</td>\n",
       "      <td>Python/Pyspark/machine learning/Microsoft Azure</td>\n",
       "      <td>Master</td>\n",
       "      <td>17.0</td>\n",
       "      <td>Rennes</td>\n",
       "      <td>Expert</td>\n",
       "    </tr>\n",
       "    <tr>\n",
       "      <th>9581</th>\n",
       "      <td>Vertex</td>\n",
       "      <td>Data scientist</td>\n",
       "      <td>VBA/Python/Excel/R</td>\n",
       "      <td>Phd</td>\n",
       "      <td>0.0</td>\n",
       "      <td>Paris</td>\n",
       "      <td>Debutant</td>\n",
       "    </tr>\n",
       "  </tbody>\n",
       "</table>\n",
       "<p>9582 rows × 7 columns</p>\n",
       "</div>"
      ],
      "text/plain": [
       "                                             Entreprise               Metier  \\\n",
       "0                                                Sanofi       Data scientist   \n",
       "1                   Massachusetts General Hospital(MGH)      Data architecte   \n",
       "2                                                 Delve  Lead data scientist   \n",
       "3     Ann & Robert H. Lurie Children’s Hospital of C...       Data scientist   \n",
       "4                                                   Arm       Data scientist   \n",
       "...                                                 ...                  ...   \n",
       "9577                Massachusetts General Hospital(MGH)       Data scientist   \n",
       "9578                            Charles River Analytics       Data scientist   \n",
       "9579                                     Ball Aerospace       Data scientist   \n",
       "9580                              Takeda Pharmaceutical       Data scientist   \n",
       "9581                                             Vertex       Data scientist   \n",
       "\n",
       "                                           Technologies Diplome  Experience  \\\n",
       "0         Matlab/Python/Pyspark/Scikit-learn/Tensorflow  Master         1.0   \n",
       "1                             Python/Java/Scala/MongoDB  Master         3.0   \n",
       "2     SPSS/SQL/Teradata/R/Python/Tensorflow/scikit-l...  Master         3.0   \n",
       "3                                     C/C++/Java/Python  Master         1.5   \n",
       "4       Matlab/Python/C++/numpy/Tensorflow/scikit-learn     Phd         2.0   \n",
       "...                                                 ...     ...         ...   \n",
       "9577                     C++/R/Python/Matlab/Matplotlib  Master         1.5   \n",
       "9578     Excel/Python/Matlab/R/machine learning/anglais  Master        11.0   \n",
       "9579                       R/machine learning/Excel/VBA  Master         1.0   \n",
       "9580    Python/Pyspark/machine learning/Microsoft Azure  Master        17.0   \n",
       "9581                                 VBA/Python/Excel/R     Phd         0.0   \n",
       "\n",
       "          Ville Exp_label  \n",
       "0         Paris  Debutant  \n",
       "1     Marseille  Debutant  \n",
       "2        Nantes  Debutant  \n",
       "3     Marseille  Debutant  \n",
       "4      Bordeaux  Debutant  \n",
       "...         ...       ...  \n",
       "9577       Lyon  Debutant  \n",
       "9578   Toulouse    Avance  \n",
       "9579      Paris  Debutant  \n",
       "9580     Rennes    Expert  \n",
       "9581      Paris  Debutant  \n",
       "\n",
       "[9582 rows x 7 columns]"
      ]
     },
     "execution_count": 19,
     "metadata": {},
     "output_type": "execute_result"
    }
   ],
   "source": [
    "# Transformons la variable continue \"Experience\" en une nouvelle variable catégorielle\n",
    "## la fonction \"cut\" permet de regrouper l'expérience en 4 catégories : Débutant, Confirmé, Avancé et Expert\n",
    "\n",
    "df['Exp_label']= pd.cut(df.Experience,4 , labels=['Debutant','Confirme','Avance','Expert'])\n",
    "df"
   ]
  },
  {
   "cell_type": "code",
   "execution_count": 20,
   "metadata": {},
   "outputs": [
    {
     "data": {
      "image/png": "[encoded data removed]",
      "text/plain": [
       "<Figure size 432x288 with 1 Axes>"
      ]
     },
     "metadata": {},
     "output_type": "display_data"
    }
   ],
   "source": [
    "# Visualisation par un graphe des valeurs moyennes de différentes catégories\n",
    "\n",
    "plt.figure()\n",
    "plt.subplot(111)\n",
    "X=df['Exp_label'].value_counts().keys()\n",
    "Y=df['Exp_label'].value_counts().values\n",
    "plt.bar(X,Y,color=(0.2, 0.4, 0.6, 0.6))\n",
    "sb.set_context(\"talk\")\n",
    "plt.xticks(X,rotation=45)\n",
    "plt.ylabel(\"La valeur moyenne\\n\")\n",
    "plt.title(\"Le nombre moyen d'années d'expériences pour chaque métier \\n\")\n",
    "plt.show()"
   ]
  },
  {
   "cell_type": "markdown",
   "metadata": {},
   "source": [
    "On constate qu'il plus des débutants dans le métier que d'autres niveau d'expériences "
   ]
  },
  {
   "cell_type": "markdown",
   "metadata": {},
   "source": [
    "## 7- Quelles sont les 5 technologies les plus utilisées? Faites un graphique"
   ]
  },
  {
   "cell_type": "code",
   "execution_count": 21,
   "metadata": {},
   "outputs": [
    {
     "name": "stdout",
     "output_type": "stream",
     "text": [
      "SQL/R/Python//Big data                                539\n",
      "SAS/Teradata/SQL/R/Python/Machine learning/Anglais    458\n",
      "C++/R/Python/Matlab/Matplotlib                        273\n",
      "Hadoop/Hive/Vertica/Tableau                           250\n",
      "SPSS/Excel/SAS/R/machine learning/AI/Scoring          250\n",
      "Name: Technologies, dtype: int64\n"
     ]
    }
   ],
   "source": [
    "## Les 5 technologies les plus utilisées\n",
    "\n",
    "Top_5_technologies = df['Technologies'].value_counts()[0:5]\n",
    "print(Top_5_technologies)"
   ]
  },
  {
   "cell_type": "code",
   "execution_count": 22,
   "metadata": {},
   "outputs": [
    {
     "data": {
      "image/png": "[encoded data removed]",
      "text/plain": [
       "<Figure size 720x504 with 1 Axes>"
      ]
     },
     "metadata": {},
     "output_type": "display_data"
    }
   ],
   "source": [
    "# Affichage de résultat par un graphique\n",
    "\n",
    "ax = Top_5_technologies.plot(kind='barh', figsize=(10,7))\n",
    "ax.invert_yaxis()\n",
    "plt.xlabel(\"\\nProfile\")\n",
    "plt.title('Les 5 top technologies les plus utilisés')\n",
    "plt.show()"
   ]
  },
  {
   "cell_type": "markdown",
   "metadata": {},
   "source": [
    "Les technologies *\"SQL/R/Python/Big data\"* sont plus utilisées dans le domaine"
   ]
  },
  {
   "cell_type": "markdown",
   "metadata": {},
   "source": [
    "## 8 - Réaliser une méthode de clustering non supervisée de votre choix pour faire apparaître 2 clusters que vous jugerez pertinents. Donnez les caractéristiques de chacun des clusters.\n",
    "\n",
    "  - Justifier la performance de votre algorithme grace à une métrique.\n",
    "  - Interpréter votre resultat.\n"
   ]
  },
  {
   "cell_type": "code",
   "execution_count": 23,
   "metadata": {},
   "outputs": [
    {
     "data": {
      "text/html": [
       "<div>\n",
       "<style scoped>\n",
       "    .dataframe tbody tr th:only-of-type {\n",
       "        vertical-align: middle;\n",
       "    }\n",
       "\n",
       "    .dataframe tbody tr th {\n",
       "        vertical-align: top;\n",
       "    }\n",
       "\n",
       "    .dataframe thead th {\n",
       "        text-align: right;\n",
       "    }\n",
       "</style>\n",
       "<table border=\"1\" class=\"dataframe\">\n",
       "  <thead>\n",
       "    <tr style=\"text-align: right;\">\n",
       "      <th></th>\n",
       "      <th>Experience</th>\n",
       "      <th>Ville_enc</th>\n",
       "      <th>Technologies_enc</th>\n",
       "      <th>Diplome_enc</th>\n",
       "      <th>Exp_label_enc</th>\n",
       "    </tr>\n",
       "  </thead>\n",
       "  <tbody>\n",
       "    <tr>\n",
       "      <th>0</th>\n",
       "      <td>1.0</td>\n",
       "      <td>8</td>\n",
       "      <td>27</td>\n",
       "      <td>1</td>\n",
       "      <td>2</td>\n",
       "    </tr>\n",
       "    <tr>\n",
       "      <th>1</th>\n",
       "      <td>3.0</td>\n",
       "      <td>4</td>\n",
       "      <td>34</td>\n",
       "      <td>1</td>\n",
       "      <td>2</td>\n",
       "    </tr>\n",
       "    <tr>\n",
       "      <th>2</th>\n",
       "      <td>3.0</td>\n",
       "      <td>6</td>\n",
       "      <td>51</td>\n",
       "      <td>1</td>\n",
       "      <td>2</td>\n",
       "    </tr>\n",
       "    <tr>\n",
       "      <th>3</th>\n",
       "      <td>1.5</td>\n",
       "      <td>4</td>\n",
       "      <td>2</td>\n",
       "      <td>1</td>\n",
       "      <td>2</td>\n",
       "    </tr>\n",
       "    <tr>\n",
       "      <th>4</th>\n",
       "      <td>2.0</td>\n",
       "      <td>0</td>\n",
       "      <td>26</td>\n",
       "      <td>3</td>\n",
       "      <td>2</td>\n",
       "    </tr>\n",
       "  </tbody>\n",
       "</table>\n",
       "</div>"
      ],
      "text/plain": [
       "   Experience  Ville_enc  Technologies_enc  Diplome_enc  Exp_label_enc\n",
       "0         1.0          8                27            1              2\n",
       "1         3.0          4                34            1              2\n",
       "2         3.0          6                51            1              2\n",
       "3         1.5          4                 2            1              2\n",
       "4         2.0          0                26            3              2"
      ]
     },
     "execution_count": 23,
     "metadata": {},
     "output_type": "execute_result"
    }
   ],
   "source": [
    "#\n",
    "\n",
    "from sklearn import preprocessing\n",
    "le = preprocessing.LabelEncoder()\n",
    "df_enc = df.loc[:,['Experience']]\n",
    "df_enc['Ville_enc'] = pd.Series(le.fit_transform(np.squeeze(df.loc[:,['Ville']])[:]), index = df_enc.index)\n",
    "df_enc['Technologies_enc'] = pd.Series(le.fit_transform(np.squeeze(df.loc[:,['Technologies']])[:]), index = df_enc.index)\n",
    "df_enc['Diplome_enc'] = pd.Series(le.fit_transform(np.squeeze(df.loc[:,['Diplome']])[:]), index = df_enc.index)\n",
    "df_enc['Exp_label_enc'] = pd.Series(le.fit_transform(np.squeeze(df.loc[:,['Exp_label']])[:]), index = df_enc.index)\n",
    "df_enc = np.round(df_enc,2)\n",
    "df_enc.head(5)"
   ]
  },
  {
   "cell_type": "markdown",
   "metadata": {},
   "source": [
    "La méthode choisie pour le clustering est K-Means, pour sa simplicité et la connaissance du nombre de cluster =2"
   ]
  },
  {
   "cell_type": "code",
   "execution_count": 24,
   "metadata": {
    "collapsed": true
   },
   "outputs": [],
   "source": [
    "# Importation des librairies pour les KMeans\n",
    "from sklearn.cluster import KMeans\n",
    "from sklearn.preprocessing import MinMaxScaler\n",
    "\n",
    "X = df_enc.astype(float)\n",
    "\n",
    "# feature scaling with MinMaxscaling\n",
    "scaler = MinMaxScaler()\n",
    "X_scaled = scaler.fit_transform(X)\n",
    "kmeans = KMeans(n_clusters=2, max_iter = 100, algorithm = 'auto')\n",
    "kmeans.fit(X_scaled)\n",
    "labels_ = kmeans.labels_\n",
    "c1, c2 = kmeans.cluster_centers_"
   ]
  },
  {
   "cell_type": "code",
   "execution_count": 25,
   "metadata": {},
   "outputs": [
    {
     "name": "stdout",
     "output_type": "stream",
     "text": [
      " NMSE  cluster 1: 11.85%\n",
      " NMSE  cluster 2: 19.21%\n"
     ]
    }
   ],
   "source": [
    "# Evaluation se fait en calculant l'erreur moyenne quadratique : NMSE (Normalized Mean Square Error)\n",
    "# Evaluation de l'erreur de clustering pour chaque cluster\n",
    "\n",
    "NMSE = lambda a,b: 100 * ((a-b)**2).sum() / ((a)**2).sum()\n",
    "NMSE_1 = NMSE(X_scaled[labels_==0], c1) \n",
    "NMSE_2 = NMSE(X_scaled[labels_==1], c2)\n",
    "print(' NMSE  cluster 1: {0:2.2f}%'.format(NMSE_1))\n",
    "print(' NMSE  cluster 2: {0:2.2f}%'.format(NMSE_2))"
   ]
  },
  {
   "cell_type": "markdown",
   "metadata": {},
   "source": [
    "Les erreurs moyennes quadratiques normalisées pour les deux clusteres sont moins de 20%.\n",
    "\n",
    "Le pourcentage des données représente la variance des données, plus la valeur est faible, plus les données à l'intérieur des clusters sont bien représentées."
   ]
  },
  {
   "cell_type": "code",
   "execution_count": 26,
   "metadata": {},
   "outputs": [
    {
     "data": {
      "image/png": "[encoded data removed]",
      "text/plain": [
       "<Figure size 1440x2160 with 8 Axes>"
      ]
     },
     "metadata": {},
     "output_type": "display_data"
    }
   ],
   "source": [
    "plt.figure(figsize=(20,30))\n",
    "plt.subplot(521),\n",
    "ax = df_enc.loc[labels_==1,'Experience'].plot(kind='hist', color='#2ecc71', label='cluster_1')\n",
    "plt.legend()\n",
    "plt.xlabel(\"Experience\")\n",
    "plt.subplot(522),\n",
    "ax = df_enc.loc[labels_==0,'Experience'].plot(kind='hist', color='#e74c3c', label='cluster_2')\n",
    "plt.xlabel(\"Experience\")\n",
    "plt.legend()\n",
    "\n",
    "plt.subplot(523),\n",
    "ax = df.loc[labels_==1,'Diplome'].value_counts().plot(kind='bar', color='#2ecc71', label='cluster_1')\n",
    "plt.xlabel(\"Diplome\")\n",
    "plt.ylabel(\"Profile\")\n",
    "plt.legend()\n",
    "\n",
    "plt.subplot(524),\n",
    "ax = df.loc[labels_==0,'Diplome'].value_counts().plot(kind='bar', color='#e74c3c', label='cluster_2')\n",
    "plt.xlabel(\"Diplome\")\n",
    "plt.ylabel(\"Profile\")\n",
    "plt.legend()\n",
    "\n",
    "plt.subplot(513),\n",
    "ax = df.loc[labels_==0,'Ville'].value_counts().plot(kind='bar', color = '#e74c3c', label='cluster_2')\n",
    "ax = df.loc[labels_==1,'Ville'].value_counts().plot(kind='bar', color = '#2ecc71', label='cluster_1')\n",
    "plt.ylabel(\"Profile\")\n",
    "plt.xlabel(\"Ville\")\n",
    "plt.legend()\n",
    "\n",
    "plt.subplot(514),\n",
    "ax = df_enc.loc[labels_==0,'Technologies_enc'].value_counts()[0:5].plot(kind='bar', color = '#e74c3c', label='cluster_2')\n",
    "ax = df_enc.loc[labels_==1,'Technologies_enc'].value_counts()[0:5].plot(kind='bar', color = '#2ecc71', label='cluster_1')\n",
    "plt.ylabel(\"Profile\")\n",
    "plt.xlabel(\"\\n Technologie\")\n",
    "plt.legend()\n",
    "\n",
    "plt.subplot(529)\n",
    "ax=df.loc[labels_==1,'Exp_label'].value_counts().plot(kind='bar', color='#2ecc71', label='cluster_1')\n",
    "plt.ylabel(\"Profile\")\n",
    "plt.xlabel(\"\\n Experience Label\")\n",
    "plt.legend()\n",
    "plt.subplot(5,2,10)\n",
    "ax=df.loc[labels_==0,'Exp_label'].value_counts().plot(kind='bar', color='#e74c3c', label='cluster_2')\n",
    "plt.ylabel(\"Profile\")\n",
    "plt.xlabel(\"\\n Experience Label\")\n",
    "plt.legend()\n",
    "\n",
    "plt.subplots_adjust(hspace=1)\n",
    "\n",
    "plt.show()"
   ]
  },
  {
   "cell_type": "markdown",
   "metadata": {},
   "source": [
    "#### Les caracteristiques les plus imortantes des deux clusteres sont :  le Diplome et l'Experience:\n",
    "\n",
    "- Première Caractérstique est le Diplome :\n",
    "\n",
    "    Cluster 1 : No diplome et PhD.\n",
    "    Cluster 2 : Master et Bachelor.\n",
    "     \n",
    "    \n",
    "- Deuxièmes Caractérstique est l'Expérience :\n",
    "\n",
    "    Le nombre d'année d'Experience des profiles du premier cluster est beaucoup plus élevés par rapport aux profiles du deuxieme cluster."
   ]
  },
  {
   "cell_type": "markdown",
   "metadata": {},
   "source": [
    "## 9- Réaliser la prédiction des métiers manquants dans la base de données par l'algorithme de votre choix\n",
    "\n",
    " - Justifier la performance de votre algorithme grace à une métrique.\n",
    " - Interpréter votre resultat.\n"
   ]
  },
  {
   "cell_type": "code",
   "execution_count": 27,
   "metadata": {
    "collapsed": true
   },
   "outputs": [],
   "source": [
    "## Importation des librairies importantes pour le modèle prédictif\n",
    "from sklearn import model_selection\n",
    "from sklearn.metrics import classification_report, accuracy_score, confusion_matrix\n",
    "from sklearn.neighbors import KNeighborsClassifier"
   ]
  },
  {
   "cell_type": "code",
   "execution_count": 28,
   "metadata": {
    "collapsed": true
   },
   "outputs": [],
   "source": [
    "data_metier = df.loc[:,'Metier'].isna()\n",
    "\n",
    "# Préparation de la base de donnée sans métier nulle\n",
    "X = np.array(df_enc[~data_metier])\n",
    "y = le.fit_transform(df.loc[~data_metier,'Metier'].dropna())\n",
    "\n",
    "#Metier_na contient les donnée avec la caractéristique du metier est nulle.\n",
    "Metier_na = np.array(df_enc[data_metier])\n",
    "\n",
    "#Diviser les données 80% pour l'entrainement et 20% pour le test\n",
    "X_train, X_test, y_train, y_test = model_selection.train_test_split(X, y, test_size=.20, shuffle=True , random_state=40)"
   ]
  },
  {
   "cell_type": "markdown",
   "metadata": {},
   "source": [
    "###### 1. Premier model SVM"
   ]
  },
  {
   "cell_type": "code",
   "execution_count": 29,
   "metadata": {
    "collapsed": true
   },
   "outputs": [],
   "source": [
    "from sklearn import svm\n",
    "from sklearn import metrics\n",
    "from sklearn.metrics import classification_report, confusion_matrix"
   ]
  },
  {
   "cell_type": "code",
   "execution_count": 30,
   "metadata": {
    "collapsed": true
   },
   "outputs": [],
   "source": [
    "mvs = svm.SVC()"
   ]
  },
  {
   "cell_type": "code",
   "execution_count": 31,
   "metadata": {
    "collapsed": true
   },
   "outputs": [],
   "source": [
    "modele1 = mvs.fit(X_train,y_train)"
   ]
  },
  {
   "cell_type": "code",
   "execution_count": 32,
   "metadata": {
    "collapsed": true
   },
   "outputs": [],
   "source": [
    "y_pred1 = modele1.predict(X_test)"
   ]
  },
  {
   "cell_type": "code",
   "execution_count": 33,
   "metadata": {},
   "outputs": [
    {
     "name": "stdout",
     "output_type": "stream",
     "text": [
      "Matrice de confusion :\n",
      "\n",
      "[[391  40   8   0]\n",
      " [ 87 327  19   0]\n",
      " [  8  11 725  49]\n",
      " [  2   4 156  86]]\n",
      "\n",
      "Le rapport de classificiation :\n",
      "\n",
      "             precision    recall  f1-score   support\n",
      "\n",
      "          0       0.80      0.89      0.84       439\n",
      "          1       0.86      0.76      0.80       433\n",
      "          2       0.80      0.91      0.85       793\n",
      "          3       0.64      0.35      0.45       248\n",
      "\n",
      "avg / total       0.79      0.80      0.79      1913\n",
      "\n"
     ]
    }
   ],
   "source": [
    "print('Matrice de confusion :\\n')\n",
    "print(metrics.confusion_matrix(y_test,y_pred1))\n",
    "\n",
    "print('\\nLe rapport de classificiation :\\n')\n",
    "print(classification_report(y_test,y_pred1))"
   ]
  },
  {
   "cell_type": "code",
   "execution_count": 34,
   "metadata": {},
   "outputs": [
    {
     "name": "stdout",
     "output_type": "stream",
     "text": [
      "La précision :79.92681651855725 %\n"
     ]
    }
   ],
   "source": [
    "print(\"La précision :\"+str(metrics.accuracy_score(y_test,y_pred1)*100)+' %')"
   ]
  },
  {
   "cell_type": "markdown",
   "metadata": {},
   "source": [
    "###### 2. Second model KNN"
   ]
  },
  {
   "cell_type": "code",
   "execution_count": 35,
   "metadata": {
    "collapsed": true
   },
   "outputs": [],
   "source": [
    "model = KNeighborsClassifier(n_neighbors=4).fit(X_train,y_train)"
   ]
  },
  {
   "cell_type": "code",
   "execution_count": 36,
   "metadata": {},
   "outputs": [
    {
     "name": "stdout",
     "output_type": "stream",
     "text": [
      "Matrice de confusion :\n",
      "\n",
      "[[398  30   9   2]\n",
      " [ 64 352  15   2]\n",
      " [ 20  28 694  51]\n",
      " [  7   6 149  86]]\n",
      "\n",
      "Le rapport de classificiation :\n",
      "\n",
      "             precision    recall  f1-score   support\n",
      "\n",
      "          0       0.81      0.91      0.86       439\n",
      "          1       0.85      0.81      0.83       433\n",
      "          2       0.80      0.88      0.84       793\n",
      "          3       0.61      0.35      0.44       248\n",
      "\n",
      "avg / total       0.79      0.80      0.79      1913\n",
      "\n"
     ]
    }
   ],
   "source": [
    "y_predicted = model.predict(X_test)\n",
    "cm = confusion_matrix(y_test, y_predicted) \n",
    "print('Matrice de confusion :\\n')\n",
    "print(cm)\n",
    "print('\\nLe rapport de classificiation :\\n')\n",
    "print(classification_report(y_test,y_predicted))"
   ]
  },
  {
   "cell_type": "code",
   "execution_count": 37,
   "metadata": {},
   "outputs": [
    {
     "name": "stdout",
     "output_type": "stream",
     "text": [
      "La précision :79.9790904338735 %\n"
     ]
    }
   ],
   "source": [
    "print(\"La précision :\"+str(accuracy_score(y_test, y_predicted)*100)+' %')"
   ]
  },
  {
   "cell_type": "markdown",
   "metadata": {},
   "source": [
    "Aprés une comparaison de deux modéles de Machine Learning relativement à la métrique de la précision, j'ai choisi le modéle (les K plus proches voisins) qui a la précision la plus élevé pour la prédicition des métiers manquants"
   ]
  },
  {
   "cell_type": "code",
   "execution_count": 38,
   "metadata": {},
   "outputs": [
    {
     "name": "stdout",
     "output_type": "stream",
     "text": [
      "Le résultat de la prediction des métiers manquants est obtenu à l'aide d'une classification des données avec le model de k- plus proches voisins:\n",
      "\n"
     ]
    },
    {
     "name": "stderr",
     "output_type": "stream",
     "text": [
      "C:\\Users\\LENOVO\\Anaconda3\\lib\\site-packages\\sklearn\\preprocessing\\label.py:151: DeprecationWarning: The truth value of an empty array is ambiguous. Returning False, but in future this will result in an error. Use `array.size > 0` to check that an array is not empty.\n",
      "  if diff:\n"
     ]
    },
    {
     "data": {
      "text/html": [
       "<div>\n",
       "<style scoped>\n",
       "    .dataframe tbody tr th:only-of-type {\n",
       "        vertical-align: middle;\n",
       "    }\n",
       "\n",
       "    .dataframe tbody tr th {\n",
       "        vertical-align: top;\n",
       "    }\n",
       "\n",
       "    .dataframe thead th {\n",
       "        text-align: right;\n",
       "    }\n",
       "</style>\n",
       "<table border=\"1\" class=\"dataframe\">\n",
       "  <thead>\n",
       "    <tr style=\"text-align: right;\">\n",
       "      <th></th>\n",
       "      <th>Entreprise</th>\n",
       "      <th>Metier</th>\n",
       "      <th>Technologies</th>\n",
       "      <th>Diplome</th>\n",
       "      <th>Experience</th>\n",
       "      <th>Ville</th>\n",
       "      <th>Exp_label</th>\n",
       "      <th>Metier_predicted</th>\n",
       "    </tr>\n",
       "  </thead>\n",
       "  <tbody>\n",
       "    <tr>\n",
       "      <th>346</th>\n",
       "      <td>Jacobs</td>\n",
       "      <td>NaN</td>\n",
       "      <td>Python/Spark/GNU/Linux</td>\n",
       "      <td>No diploma</td>\n",
       "      <td>2.5</td>\n",
       "      <td>Paris</td>\n",
       "      <td>Debutant</td>\n",
       "      <td>Data engineer</td>\n",
       "    </tr>\n",
       "    <tr>\n",
       "      <th>2058</th>\n",
       "      <td>Ball Aerospace</td>\n",
       "      <td>NaN</td>\n",
       "      <td>VBA/Python/Excel/R</td>\n",
       "      <td>Master</td>\n",
       "      <td>15.0</td>\n",
       "      <td>Lyon</td>\n",
       "      <td>Avance</td>\n",
       "      <td>Data engineer</td>\n",
       "    </tr>\n",
       "    <tr>\n",
       "      <th>2670</th>\n",
       "      <td>eHire, LLC</td>\n",
       "      <td>NaN</td>\n",
       "      <td>Java/C/C++/R/Python</td>\n",
       "      <td>Master</td>\n",
       "      <td>1.5</td>\n",
       "      <td>Toulouse</td>\n",
       "      <td>Debutant</td>\n",
       "      <td>Data scientist</td>\n",
       "    </tr>\n",
       "    <tr>\n",
       "      <th>2899</th>\n",
       "      <td>Norfolk Southern Corp</td>\n",
       "      <td>NaN</td>\n",
       "      <td>Python/Tensorflow/scikit-learn/Deep learning/R</td>\n",
       "      <td>Phd</td>\n",
       "      <td>0.0</td>\n",
       "      <td>Grenoble</td>\n",
       "      <td>Debutant</td>\n",
       "      <td>Data scientist</td>\n",
       "    </tr>\n",
       "    <tr>\n",
       "      <th>3346</th>\n",
       "      <td>J.E. Ranta Associates</td>\n",
       "      <td>NaN</td>\n",
       "      <td>Cassandra/MongoDB/NoSQL/AWS</td>\n",
       "      <td>Master</td>\n",
       "      <td>7.0</td>\n",
       "      <td>Rennes</td>\n",
       "      <td>Confirme</td>\n",
       "      <td>Data engineer</td>\n",
       "    </tr>\n",
       "    <tr>\n",
       "      <th>4248</th>\n",
       "      <td>KPMG</td>\n",
       "      <td>NaN</td>\n",
       "      <td>Python/Microsoft Azure/R/SQL</td>\n",
       "      <td>Phd</td>\n",
       "      <td>2.0</td>\n",
       "      <td>Lyon</td>\n",
       "      <td>Debutant</td>\n",
       "      <td>Data scientist</td>\n",
       "    </tr>\n",
       "    <tr>\n",
       "      <th>4290</th>\n",
       "      <td>Pandora Media, Inc.</td>\n",
       "      <td>NaN</td>\n",
       "      <td>SAS/Teradata/SQL/R/Python/Machine learning/Ang...</td>\n",
       "      <td>Phd</td>\n",
       "      <td>1.5</td>\n",
       "      <td>Toulouse</td>\n",
       "      <td>Debutant</td>\n",
       "      <td>Data scientist</td>\n",
       "    </tr>\n",
       "    <tr>\n",
       "      <th>4292</th>\n",
       "      <td>Partners HealthCare(PHS)</td>\n",
       "      <td>NaN</td>\n",
       "      <td>SAS/Teradata/SQL/R/Python/Machine learning/Ang...</td>\n",
       "      <td>Master</td>\n",
       "      <td>8.0</td>\n",
       "      <td>Bordeaux</td>\n",
       "      <td>Confirme</td>\n",
       "      <td>Lead data scientist</td>\n",
       "    </tr>\n",
       "    <tr>\n",
       "      <th>5425</th>\n",
       "      <td>Ashton Lane Group</td>\n",
       "      <td>NaN</td>\n",
       "      <td>Python/Pyspark/Spark</td>\n",
       "      <td>No diploma</td>\n",
       "      <td>5.0</td>\n",
       "      <td>Lyon</td>\n",
       "      <td>Debutant</td>\n",
       "      <td>Data engineer</td>\n",
       "    </tr>\n",
       "    <tr>\n",
       "      <th>5593</th>\n",
       "      <td>Lighthouse Lab Services</td>\n",
       "      <td>NaN</td>\n",
       "      <td>Python/R/machine learning/Excel/VBA/C++</td>\n",
       "      <td>Master</td>\n",
       "      <td>3.0</td>\n",
       "      <td>Lyon</td>\n",
       "      <td>Debutant</td>\n",
       "      <td>Data scientist</td>\n",
       "    </tr>\n",
       "    <tr>\n",
       "      <th>5712</th>\n",
       "      <td>Ball Aerospace</td>\n",
       "      <td>NaN</td>\n",
       "      <td>Hadoop/Hive/Vertica/Tableau</td>\n",
       "      <td>Bachelor</td>\n",
       "      <td>3.0</td>\n",
       "      <td>Paris</td>\n",
       "      <td>Debutant</td>\n",
       "      <td>Data architecte</td>\n",
       "    </tr>\n",
       "    <tr>\n",
       "      <th>6024</th>\n",
       "      <td>Leidos</td>\n",
       "      <td>NaN</td>\n",
       "      <td>Linux/Python/Hadoop/Perl/Ruby</td>\n",
       "      <td>Master</td>\n",
       "      <td>1.5</td>\n",
       "      <td>Lyon</td>\n",
       "      <td>Debutant</td>\n",
       "      <td>Data architecte</td>\n",
       "    </tr>\n",
       "    <tr>\n",
       "      <th>6625</th>\n",
       "      <td>Ball Aerospace</td>\n",
       "      <td>NaN</td>\n",
       "      <td>Hadoop/Hive/Vertica/Tableau</td>\n",
       "      <td>No diploma</td>\n",
       "      <td>0.0</td>\n",
       "      <td>Paris</td>\n",
       "      <td>Debutant</td>\n",
       "      <td>Data architecte</td>\n",
       "    </tr>\n",
       "    <tr>\n",
       "      <th>7091</th>\n",
       "      <td>KPMG</td>\n",
       "      <td>NaN</td>\n",
       "      <td>SAS/Teradata/SQL/R/Python/Machine learning/Ang...</td>\n",
       "      <td>Master</td>\n",
       "      <td>0.0</td>\n",
       "      <td>Marseille</td>\n",
       "      <td>Debutant</td>\n",
       "      <td>Data scientist</td>\n",
       "    </tr>\n",
       "    <tr>\n",
       "      <th>7228</th>\n",
       "      <td>Environmental Defense Fund</td>\n",
       "      <td>NaN</td>\n",
       "      <td>Map-Reduce/HDFS/PIG/HBASE/Python/Cassandra</td>\n",
       "      <td>Master</td>\n",
       "      <td>2.5</td>\n",
       "      <td>Bordeaux</td>\n",
       "      <td>Debutant</td>\n",
       "      <td>Data engineer</td>\n",
       "    </tr>\n",
       "    <tr>\n",
       "      <th>7330</th>\n",
       "      <td>Turner</td>\n",
       "      <td>NaN</td>\n",
       "      <td>Excel/Python/Matlab/R/machine learning/anglais</td>\n",
       "      <td>Phd</td>\n",
       "      <td>0.5</td>\n",
       "      <td>Lyon</td>\n",
       "      <td>Debutant</td>\n",
       "      <td>Data scientist</td>\n",
       "    </tr>\n",
       "    <tr>\n",
       "      <th>9087</th>\n",
       "      <td>Klein Hersh International</td>\n",
       "      <td>NaN</td>\n",
       "      <td>Hadoop/Hive/Vertica/Tableau</td>\n",
       "      <td>No diploma</td>\n",
       "      <td>3.5</td>\n",
       "      <td>Paris</td>\n",
       "      <td>Debutant</td>\n",
       "      <td>Data architecte</td>\n",
       "    </tr>\n",
       "    <tr>\n",
       "      <th>9427</th>\n",
       "      <td>McKinsey &amp; Company</td>\n",
       "      <td>NaN</td>\n",
       "      <td>Python/R/machine learning/Excel/VBA/C++</td>\n",
       "      <td>Master</td>\n",
       "      <td>1.0</td>\n",
       "      <td>Marseille</td>\n",
       "      <td>Debutant</td>\n",
       "      <td>Data scientist</td>\n",
       "    </tr>\n",
       "    <tr>\n",
       "      <th>9490</th>\n",
       "      <td>Pearson</td>\n",
       "      <td>NaN</td>\n",
       "      <td>R/Python/Spark/Pycharm/SAS/SQL</td>\n",
       "      <td>Master</td>\n",
       "      <td>4.0</td>\n",
       "      <td>Marseille</td>\n",
       "      <td>Debutant</td>\n",
       "      <td>Lead data scientist</td>\n",
       "    </tr>\n",
       "  </tbody>\n",
       "</table>\n",
       "</div>"
      ],
      "text/plain": [
       "                      Entreprise Metier  \\\n",
       "346                       Jacobs    NaN   \n",
       "2058              Ball Aerospace    NaN   \n",
       "2670                  eHire, LLC    NaN   \n",
       "2899       Norfolk Southern Corp    NaN   \n",
       "3346       J.E. Ranta Associates    NaN   \n",
       "4248                        KPMG    NaN   \n",
       "4290         Pandora Media, Inc.    NaN   \n",
       "4292    Partners HealthCare(PHS)    NaN   \n",
       "5425           Ashton Lane Group    NaN   \n",
       "5593     Lighthouse Lab Services    NaN   \n",
       "5712              Ball Aerospace    NaN   \n",
       "6024                      Leidos    NaN   \n",
       "6625              Ball Aerospace    NaN   \n",
       "7091                        KPMG    NaN   \n",
       "7228  Environmental Defense Fund    NaN   \n",
       "7330                      Turner    NaN   \n",
       "9087   Klein Hersh International    NaN   \n",
       "9427          McKinsey & Company    NaN   \n",
       "9490                     Pearson    NaN   \n",
       "\n",
       "                                           Technologies     Diplome  \\\n",
       "346                              Python/Spark/GNU/Linux  No diploma   \n",
       "2058                                 VBA/Python/Excel/R      Master   \n",
       "2670                                Java/C/C++/R/Python      Master   \n",
       "2899     Python/Tensorflow/scikit-learn/Deep learning/R         Phd   \n",
       "3346                        Cassandra/MongoDB/NoSQL/AWS      Master   \n",
       "4248                       Python/Microsoft Azure/R/SQL         Phd   \n",
       "4290  SAS/Teradata/SQL/R/Python/Machine learning/Ang...         Phd   \n",
       "4292  SAS/Teradata/SQL/R/Python/Machine learning/Ang...      Master   \n",
       "5425                               Python/Pyspark/Spark  No diploma   \n",
       "5593            Python/R/machine learning/Excel/VBA/C++      Master   \n",
       "5712                        Hadoop/Hive/Vertica/Tableau    Bachelor   \n",
       "6024                      Linux/Python/Hadoop/Perl/Ruby      Master   \n",
       "6625                        Hadoop/Hive/Vertica/Tableau  No diploma   \n",
       "7091  SAS/Teradata/SQL/R/Python/Machine learning/Ang...      Master   \n",
       "7228         Map-Reduce/HDFS/PIG/HBASE/Python/Cassandra      Master   \n",
       "7330     Excel/Python/Matlab/R/machine learning/anglais         Phd   \n",
       "9087                        Hadoop/Hive/Vertica/Tableau  No diploma   \n",
       "9427            Python/R/machine learning/Excel/VBA/C++      Master   \n",
       "9490                     R/Python/Spark/Pycharm/SAS/SQL      Master   \n",
       "\n",
       "      Experience      Ville Exp_label     Metier_predicted  \n",
       "346          2.5      Paris  Debutant        Data engineer  \n",
       "2058        15.0       Lyon    Avance        Data engineer  \n",
       "2670         1.5   Toulouse  Debutant       Data scientist  \n",
       "2899         0.0   Grenoble  Debutant       Data scientist  \n",
       "3346         7.0     Rennes  Confirme        Data engineer  \n",
       "4248         2.0       Lyon  Debutant       Data scientist  \n",
       "4290         1.5   Toulouse  Debutant       Data scientist  \n",
       "4292         8.0   Bordeaux  Confirme  Lead data scientist  \n",
       "5425         5.0       Lyon  Debutant        Data engineer  \n",
       "5593         3.0       Lyon  Debutant       Data scientist  \n",
       "5712         3.0      Paris  Debutant      Data architecte  \n",
       "6024         1.5       Lyon  Debutant      Data architecte  \n",
       "6625         0.0      Paris  Debutant      Data architecte  \n",
       "7091         0.0  Marseille  Debutant       Data scientist  \n",
       "7228         2.5   Bordeaux  Debutant        Data engineer  \n",
       "7330         0.5       Lyon  Debutant       Data scientist  \n",
       "9087         3.5      Paris  Debutant      Data architecte  \n",
       "9427         1.0  Marseille  Debutant       Data scientist  \n",
       "9490         4.0  Marseille  Debutant  Lead data scientist  "
      ]
     },
     "execution_count": 38,
     "metadata": {},
     "output_type": "execute_result"
    }
   ],
   "source": [
    "\n",
    "#Prédicition les métiers manquants par notre modéle des k-plus proches voisins\n",
    "Metier_predicted=model.predict(Metier_na)\n",
    "\n",
    "#Remplissage de la base de données par les métiers prédits après la transformation inverse (Code to String) \n",
    "df.loc[~data_metier, 'Metier_predicted'] = df.loc[:,'Metier']\n",
    "df.loc[data_metier, 'Metier_predicted'] = le.inverse_transform(Metier_predicted)\n",
    "\n",
    "#Affichage\n",
    "print(\"Le résultat de la prediction des métiers manquants est obtenu à l'aide d'une classification des données avec le model de k- plus proches voisins:\\n\")\n",
    "df[data_metier]"
   ]
  },
  {
   "cell_type": "code",
   "execution_count": null,
   "metadata": {
    "collapsed": true
   },
   "outputs": [],
   "source": []
  }
 ],
 "metadata": {
  "kernelspec": {
   "display_name": "Python 3",
   "language": "python",
   "name": "python3"
  },
  "language_info": {
   "codemirror_mode": {
    "name": "ipython",
    "version": 3
   },
   "file_extension": ".py",
   "mimetype": "text/x-python",
   "name": "python",
   "nbconvert_exporter": "python",
   "pygments_lexer": "ipython3",
   "version": "3.6.2"
  }
 },
 "nbformat": 4,
 "nbformat_minor": 2
}
